{
 "cells": [
  {
   "cell_type": "markdown",
   "metadata": {},
   "source": [
    "# Local ETL Workflow Example\n",
    "\n",
    "This notebook demonstrates how to use the Local ETL project to create and run a workflow that processes local documentation files using the Unstructured API."
   ]
  },
  {
   "cell_type": "code",
   "execution_count": null,
   "metadata": {},
   "outputs": [],
   "source": [
    "from pathlib import Path\n",
    "import os\n",
    "\n",
    "# Set working directory at top level of repository\n",
    "os.chdir(Path.cwd().parent)"
   ]
  },
  {
   "cell_type": "code",
   "execution_count": null,
   "metadata": {},
   "outputs": [],
   "source": [
    "from minimal_client.client import MCPClient"
   ]
  },
  {
   "cell_type": "markdown",
   "metadata": {},
   "source": [
    "## Create and Run a Local ETL Workflow\n",
    "\n",
    "The following query will demonstrate creating local source and destination connectors, creating a workflow, and running it."
   ]
  },
  {
   "cell_type": "code",
   "execution_count": null,
   "metadata": {},
   "outputs": [],
   "source": [
    "query = \"\"\"\n",
    "I would like you to create a new local source connector named 'LocalDocSource' pointing to '../data/documentation'. \n",
    "Then create a local destination connector named 'LocalDocOutput' pointing to '../processed_data'. \n",
    "Finally, create a basic workflow connecting these two connectors, name it 'LocalDocsETL' and run it.\n",
    "\"\"\""
   ]
  },
  {
   "cell_type": "code",
   "execution_count": null,
   "metadata": {},
   "outputs": [],
   "source": [
    "client = MCPClient()\n",
    "try:\n",
    "    await client.connect_to_server('local_mcp/server.py')\n",
    "    await client.chat_loop()\n",
    "finally:\n",
    "    await client.cleanup()"
   ]
  },
  {
   "cell_type": "markdown",
   "metadata": {},
   "source": [
    "## Check Job Status\n",
    "\n",
    "The following query will demonstrate checking the status of the workflow execution."
   ]
  },
  {
   "cell_type": "code",
   "execution_count": null,
   "metadata": {},
   "outputs": [],
   "source": [
    "query = \"\"\"\n",
    "List all jobs and show me the job information for the most recent job.\n",
    "\"\"\""
   ]
  },
  {
   "cell_type": "code",
   "execution_count": null,
   "metadata": {},
   "outputs": [],
   "source": [
    "client = MCPClient()\n",
    "try:\n",
    "    await client.connect_to_server('local_mcp/server.py')\n",
    "    await client.chat_loop()\n",
    "finally:\n",
    "    await client.cleanup()"
   ]
  }
 ],
 "metadata": {
  "kernelspec": {
   "display_name": "Python 3",
   "language": "python",
   "name": "python3"
  },
  "language_info": {
   "codemirror_mode": {
    "name": "ipython",
    "version": 3
   },
   "file_extension": ".py",
   "mimetype": "text/x-python",
   "name": "python",
   "nbconvert_exporter": "python",
   "pygments_lexer": "ipython3",
   "version": "3.12.0"
  }
 },
 "nbformat": 4,
 "nbformat_minor": 4
}